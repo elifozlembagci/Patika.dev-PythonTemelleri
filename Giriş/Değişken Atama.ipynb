{
 "cells": [
  {
   "attachments": {},
   "cell_type": "markdown",
   "metadata": {},
   "source": [
    "# Variable Assignment #"
   ]
  },
  {
   "attachments": {},
   "cell_type": "markdown",
   "metadata": {},
   "source": [
    "- Bu işlem için \"=\" işareti kullanır.\n",
    "\n",
    "- Eşitliğin sol tarafı = variable ismi (değişkenin ismi)\n",
    "\n",
    "- Eşitliğin sağ tarafı = değişkenin alacağı değer"
   ]
  },
  {
   "cell_type": "markdown",
   "metadata": {},
   "source": [
    "- İlk olarak yapacağımız şey variable'ye vereceğimiz ismi yazmak. Bu isim penguen, uzunluk, maaş gibi istediğiniz bir isim olabilir (burada dikkat edilmesi gereken yer, verilecek ismin daha önceden Python'un default olarak kullanmadığı isimler olması. Mesela if, continue, for gibi keyword'ler daha önceden ayrıldığı için bunları variable ismi olarak kullanamayız)\n",
    "- Python'un daha önceden kendisine ayırdığı isimler (reserved words):\n",
    "\n",
    "  - and       \n",
    "  - del       \n",
    "  - from      \n",
    "  - not       \n",
    "  - while    \n",
    "  - as        \n",
    "  - elif      \n",
    "  - global    \n",
    "  - or        \n",
    "  - with     \n",
    "  - assert    \n",
    "  - else      \n",
    "  - if        \n",
    "  - pass      \n",
    "  - yield    \n",
    "  - break     \n",
    "  - except    \n",
    "  - import    \n",
    "  - print     \n",
    "  - True         \n",
    "  - class     \n",
    "  - exec      \n",
    "  - in \n",
    "  - raise     \n",
    "  - False         \n",
    "  - continue  \n",
    "  - finally   \n",
    "  - is        \n",
    "  - return             \n",
    "  - def       \n",
    "  - for       \n",
    "  - lambda    \n",
    "  - try\n",
    "  \n",
    "  \n",
    "\n",
    "- Variable ismini seçtikten sonra bu ismin değerinin ne olacağını söylemeliyiz. Bu aşamadan sonra Python verdiğimiz ismi gördüğünde aslında verdiğimiz değeri çağırıyor olacak.\n"
   ]
  },
  {
   "cell_type": "code",
   "execution_count": null,
   "metadata": {},
   "outputs": [
    {
     "ename": "",
     "evalue": "",
     "output_type": "error",
     "traceback": [
      "\u001b[1;31m'/Users/elif/Library/Python/3.11/lib/python/site-packages/psutil/_psutil_osx.abi3.so', '/Users/elif/Library/Python/3.11/lib/python/site-packages/psutil/_psutil_osx.abi3.so, 0x0002' konumundan içeri aktarılamadığı için çekirdek başlatılamadı.\n",
      "\u001b[1;31mDaha fazla bilgi için <a href='https://aka.ms/kernelFailuresModuleImportErrFromFile'>buraya</a> tıklayın."
     ]
    }
   ],
   "source": [
    "a = 2"
   ]
  },
  {
   "cell_type": "code",
   "execution_count": null,
   "metadata": {},
   "outputs": [],
   "source": [
    "a"
   ]
  },
  {
   "cell_type": "code",
   "execution_count": null,
   "metadata": {},
   "outputs": [],
   "source": [
    "a + 5"
   ]
  },
  {
   "cell_type": "code",
   "execution_count": 5,
   "metadata": {},
   "outputs": [],
   "source": [
    "b = 2 + 4"
   ]
  },
  {
   "cell_type": "code",
   "execution_count": null,
   "metadata": {},
   "outputs": [],
   "source": [
    "b"
   ]
  },
  {
   "cell_type": "code",
   "execution_count": null,
   "metadata": {},
   "outputs": [],
   "source": [
    "b + 4"
   ]
  },
  {
   "cell_type": "code",
   "execution_count": 8,
   "metadata": {},
   "outputs": [],
   "source": [
    "a = 2"
   ]
  },
  {
   "cell_type": "code",
   "execution_count": 9,
   "metadata": {},
   "outputs": [],
   "source": [
    "b = a + 5"
   ]
  },
  {
   "cell_type": "code",
   "execution_count": null,
   "metadata": {},
   "outputs": [],
   "source": [
    "b"
   ]
  },
  {
   "cell_type": "code",
   "execution_count": 13,
   "metadata": {},
   "outputs": [],
   "source": [
    "#Burada a'nın değerini güncelliyoruz.\n",
    "a = a + 3"
   ]
  },
  {
   "cell_type": "code",
   "execution_count": null,
   "metadata": {},
   "outputs": [],
   "source": [
    "a"
   ]
  },
  {
   "attachments": {},
   "cell_type": "markdown",
   "metadata": {},
   "source": [
    "#### örnek "
   ]
  },
  {
   "cell_type": "code",
   "execution_count": 14,
   "metadata": {},
   "outputs": [],
   "source": [
    "limon_fiyat = 10"
   ]
  },
  {
   "cell_type": "code",
   "execution_count": 15,
   "metadata": {},
   "outputs": [],
   "source": [
    "s1 = limon_fiyat * 100"
   ]
  },
  {
   "cell_type": "code",
   "execution_count": 16,
   "metadata": {},
   "outputs": [],
   "source": [
    "s2 = limon_fiyat * 70"
   ]
  },
  {
   "cell_type": "code",
   "execution_count": 17,
   "metadata": {},
   "outputs": [],
   "source": [
    "s3 = limon_fiyat * 10"
   ]
  },
  {
   "cell_type": "code",
   "execution_count": null,
   "metadata": {},
   "outputs": [],
   "source": [
    "print(s1)"
   ]
  },
  {
   "cell_type": "code",
   "execution_count": null,
   "metadata": {},
   "outputs": [],
   "source": [
    "print(s2)"
   ]
  },
  {
   "cell_type": "code",
   "execution_count": null,
   "metadata": {},
   "outputs": [],
   "source": [
    "print(s3)"
   ]
  }
 ],
 "metadata": {
  "kernelspec": {
   "display_name": "Python 3",
   "language": "python",
   "name": "python3"
  },
  "language_info": {
   "codemirror_mode": {
    "name": "ipython",
    "version": 3
   },
   "file_extension": ".py",
   "mimetype": "text/x-python",
   "name": "python",
   "nbconvert_exporter": "python",
   "pygments_lexer": "ipython3",
   "version": "3.11.1"
  },
  "orig_nbformat": 4,
  "vscode": {
   "interpreter": {
    "hash": "aee8b7b246df8f9039afb4144a1f6fd8d2ca17a180786b69acc140d282b71a49"
   }
  }
 },
 "nbformat": 4,
 "nbformat_minor": 2
}
